{
  "cells": [
    {
      "cell_type": "code",
      "execution_count": 1,
      "metadata": {
        "id": "6aFEhxKu8Xrh"
      },
      "outputs": [],
      "source": [
        "from pyfirmata import Arduino, util\n",
        "import time\n",
        "\n",
        "\n",
        "class Controller:\n",
        "\n",
        "    def __init__(self):\n",
        "        self.board = Arduino('COM3')                        # Select Arduino Port\n",
        "        self.signalPin_x = self.board.get_pin('d:3:p')      # DigitalPin 3\n",
        "        self.signalPin_y = self.board.get_pin('d:5:p')      # DigitalPin 5\n",
        "        self.signalPin_z = self.board.get_pin('d:6:p')      # DigitalPin 6\n",
        "\n",
        "    def analog_out(self, val_x, val_y, val_z):\n",
        "\n",
        "        self.signalPin_x.write(val_x)\n",
        "        time.sleep(0.05)\n",
        "\n",
        "        self.signalPin_y.write(val_y)\n",
        "        time.sleep(0.05)\n",
        "\n",
        "        self.signalPin_z.write(val_z)\n",
        "        time.sleep(0.05)\n",
        "\n",
        "    def close(self):\n",
        "        self.board.exit()\n",
        "\n",
        "\n"
      ]
    },
    {
      "cell_type": "code",
      "execution_count": 2,
      "metadata": {},
      "outputs": [
        {
          "name": "stdout",
          "output_type": "stream",
          "text": [
            "Requirement already satisfied: pyfirmata in /home/pratyush/anaconda3/envs/python37/lib/python3.7/site-packages (1.1.0)\n",
            "Requirement already satisfied: pyserial in /home/pratyush/anaconda3/envs/python37/lib/python3.7/site-packages (from pyfirmata) (3.5)\n",
            "Note: you may need to restart the kernel to use updated packages.\n"
          ]
        }
      ],
      "source": [
        "%pip install pyfirmata"
      ]
    },
    {
      "cell_type": "code",
      "execution_count": 3,
      "metadata": {},
      "outputs": [
        {
          "name": "stdout",
          "output_type": "stream",
          "text": [
            "Requirement already satisfied: mediapipe in /home/pratyush/anaconda3/envs/python37/lib/python3.7/site-packages (0.8.9.1)\n",
            "Requirement already satisfied: numpy in /home/pratyush/anaconda3/envs/python37/lib/python3.7/site-packages (from mediapipe) (1.21.5)\n",
            "Requirement already satisfied: opencv-contrib-python in /home/pratyush/anaconda3/envs/python37/lib/python3.7/site-packages (from mediapipe) (4.5.5.64)\n",
            "Requirement already satisfied: attrs>=19.1.0 in /home/pratyush/anaconda3/envs/python37/lib/python3.7/site-packages (from mediapipe) (21.4.0)\n",
            "Requirement already satisfied: absl-py in /home/pratyush/anaconda3/envs/python37/lib/python3.7/site-packages (from mediapipe) (1.0.0)\n",
            "Requirement already satisfied: matplotlib in /home/pratyush/anaconda3/envs/python37/lib/python3.7/site-packages (from mediapipe) (3.5.1)\n",
            "Requirement already satisfied: protobuf>=3.11.4 in /home/pratyush/anaconda3/envs/python37/lib/python3.7/site-packages (from mediapipe) (3.20.1)\n",
            "Requirement already satisfied: six in /home/pratyush/anaconda3/envs/python37/lib/python3.7/site-packages (from absl-py->mediapipe) (1.16.0)\n",
            "Requirement already satisfied: packaging>=20.0 in /home/pratyush/anaconda3/envs/python37/lib/python3.7/site-packages (from matplotlib->mediapipe) (21.3)\n",
            "Requirement already satisfied: pyparsing>=2.2.1 in /home/pratyush/anaconda3/envs/python37/lib/python3.7/site-packages (from matplotlib->mediapipe) (3.0.6)\n",
            "Requirement already satisfied: pillow>=6.2.0 in /home/pratyush/anaconda3/envs/python37/lib/python3.7/site-packages (from matplotlib->mediapipe) (8.4.0)\n",
            "Requirement already satisfied: cycler>=0.10 in /home/pratyush/anaconda3/envs/python37/lib/python3.7/site-packages (from matplotlib->mediapipe) (0.11.0)\n",
            "Requirement already satisfied: kiwisolver>=1.0.1 in /home/pratyush/anaconda3/envs/python37/lib/python3.7/site-packages (from matplotlib->mediapipe) (1.3.2)\n",
            "Requirement already satisfied: fonttools>=4.22.0 in /home/pratyush/anaconda3/envs/python37/lib/python3.7/site-packages (from matplotlib->mediapipe) (4.28.5)\n",
            "Requirement already satisfied: python-dateutil>=2.7 in /home/pratyush/anaconda3/envs/python37/lib/python3.7/site-packages (from matplotlib->mediapipe) (2.8.2)\n",
            "Note: you may need to restart the kernel to use updated packages.\n"
          ]
        }
      ],
      "source": [
        "%pip install mediapipe"
      ]
    },
    {
      "cell_type": "code",
      "execution_count": 4,
      "metadata": {},
      "outputs": [
        {
          "name": "stdout",
          "output_type": "stream",
          "text": [
            "Requirement already satisfied: pybullet in /home/pratyush/anaconda3/envs/python37/lib/python3.7/site-packages (3.2.4)\n",
            "Note: you may need to restart the kernel to use updated packages.\n"
          ]
        }
      ],
      "source": [
        "%pip install pybullet"
      ]
    },
    {
      "cell_type": "code",
      "execution_count": 5,
      "metadata": {},
      "outputs": [],
      "source": [
        "import cv2\n",
        "import mediapipe as mp\n",
        "mpDraw = mp.solutions.drawing_utils\n",
        "mpHands = mp.solutions.hands\n",
        "hands = mpHands.Hands()\n",
        "\n",
        "\n",
        "fwidth = 640\n",
        "fheight = 480\n",
        "\n",
        "\n",
        "def mean_hand_pos(hand_landmarks): # Function to find mean (x,y,z) position of the hand\n",
        "    global fwidth, fheight\n",
        "\n",
        "    idxs = [0, 1, 2, 5, 9, 13, 17]\n",
        "    x_sum = 0\n",
        "    y_sum = 0\n",
        "    z_sum = 0\n",
        "    for idx in idxs:\n",
        "        x_sum += hand_landmarks[idx].x\n",
        "        y_sum += hand_landmarks[idx].y\n",
        "        z_sum += hand_landmarks[idx].z\n",
        "\n",
        "    x_mean_norm = x_sum/len(idxs)\n",
        "    y_mean_norm = y_sum/len(idxs)\n",
        "    z_mean_norm = z_sum/len(idxs)\n",
        "\n",
        "    x_mean = x_mean_norm * fwidth\n",
        "    y_mean = y_mean_norm * fheight\n",
        "\n",
        "    return int(x_mean), int(y_mean), z_mean_norm\n",
        "\n",
        "\n",
        "def interp(x, in_min, in_max, out_min, out_max): # Arduino Map Function\n",
        "    return ((x - in_min) * (out_max - out_min) / (in_max - in_min) + out_min)\n",
        "\n",
        "\n",
        "def gesture_control(cap):\n",
        "    global fwidth, fheight\n",
        "\n",
        "    x_out_mc = 0\n",
        "    y_out_mc = 0\n",
        "    z_out_mc = 0\n",
        "    x_out_sim = 0\n",
        "    y_out_sim = 0\n",
        "    z_out_sim = 0\n",
        "\n",
        "    _, img = cap.read()\n",
        "    img = cv2.flip(img, 1)\n",
        "    imgRGB = cv2.cvtColor(img, cv2.COLOR_BGR2RGB)\n",
        "    results = hands.process(imgRGB)\n",
        "    if results.multi_hand_landmarks:\n",
        "        for handLms in results.multi_hand_landmarks:\n",
        "            x_mean, y_mean, z_norm = mean_hand_pos(list(handLms.landmark))          # Find mean hand pos\n",
        "            z_mean = int(z_norm*150)\n",
        "            x_rel = x_mean - int(fwidth/2)                                # Shift origin to center of frame\n",
        "            y_rel = -1*(y_mean - int(fheight/2))                          # Shift origin to center of frame\n",
        "            x_out_mc = interp(x_rel, -320, 320, 0, 1)                     # Map position to (0,1) for microcontroller\n",
        "            y_out_mc = interp(y_rel, -240, 240, 0, 1)                     # Map position to (0,1) for microcontroller\n",
        "            z_out_mc = -1*(z_norm)\n",
        "            x_out_sim = interp(x_rel, -320, 320, -1, 1)                   # Map position to (-1,1) for drone_sim\n",
        "            y_out_sim = interp(y_rel, -320, 320, -1, 1)                   # Map position to (-1,1) for drone_sim\n",
        "            z_out_sim = z_out_mc\n",
        "            cv2.circle(img, (x_mean, y_mean), 10, (255, 0, 0), cv2.FILLED)  # Show mean position\n",
        "            cv2.putText(img, f\"X : {x_rel} Y : {y_rel} Z : {z_mean}\", (200, 50), cv2.FONT_HERSHEY_SIMPLEX, 1, (209, 80, 0, 255), 3)\n",
        "            mpDraw.draw_landmarks(img, handLms, mpHands.HAND_CONNECTIONS)   # Draw Landmarks\n",
        "\n",
        "    cv2.line(img, (int(fwidth/2), 0), (int(fwidth/2), fheight), (0, 255, 0), 2) # Draw Gridlines\n",
        "    cv2.line(img, (0, int(fheight/2)), (fwidth, int(fheight/2)), (0, 255, 0), 2)\n",
        "\n",
        "    return img, x_out_mc, y_out_mc, z_out_mc, x_out_sim, y_out_sim, z_out_sim\n"
      ]
    },
    {
      "cell_type": "code",
      "execution_count": 6,
      "metadata": {},
      "outputs": [
        {
          "name": "stderr",
          "output_type": "stream",
          "text": [
            "pybullet build time: Apr 26 2022 03:11:02\n",
            "INFO: Created TensorFlow Lite XNNPACK delegate for CPU.\n"
          ]
        },
        {
          "name": "stdout",
          "output_type": "stream",
          "text": [
            "startThreads creating 1 threads.\n",
            "starting thread 0\n",
            "started thread 0 \n",
            "argc=2\n",
            "argv[0] = --unused\n",
            "argv[1] = --start_demo_name=Physics Server\n",
            "ExampleBrowserThreadFunc started\n",
            "X11 functions dynamically loaded using dlopen/dlsym OK!\n",
            "X11 functions dynamically loaded using dlopen/dlsym OK!\n",
            "Creating context\n",
            "Created GL 3.3 context\n",
            "Direct GLX rendering context obtained\n",
            "Making context current\n",
            "GL_VENDOR=Intel\n",
            "GL_RENDERER=Mesa Intel(R) UHD Graphics (CML GT2)\n",
            "GL_VERSION=4.6 (Core Profile) Mesa 21.0.3\n",
            "GL_SHADING_LANGUAGE_VERSION=4.60\n",
            "pthread_getconcurrency()=0\n",
            "Version = 4.6 (Core Profile) Mesa 21.0.3\n",
            "Vendor = Intel\n",
            "Renderer = Mesa Intel(R) UHD Graphics (CML GT2)\n",
            "b3Printf: Selected demo: Physics Server\n",
            "startThreads creating 1 threads.\n",
            "starting thread 0\n",
            "started thread 0 \n",
            "MotionThreadFunc thread started\n",
            "ven = Intel\n",
            "Workaround for some crash in the Intel OpenGL driver on Linux/Ubuntu\n",
            "ven = Intel\n",
            "Workaround for some crash in the Intel OpenGL driver on Linux/Ubuntu\n"
          ]
        }
      ],
      "source": [
        "import cv2\n",
        "from drone_sim import Drone\n",
        "\n",
        "cap = cv2.VideoCapture(0)\n",
        "drone = Drone()             #Turn the drone_sim on\n",
        "#controller = Controller()  #Turn the controller on\n",
        "\n",
        "while True:\n",
        "\n",
        "    frame, x_out_mc, y_out_mc, z_out_mc, x_out_sim, y_out_sim, z_out_sim = gesture_control(cap)  # Calculate Voltages and Actions corresponding to Gestures\n",
        "\n",
        "    drone.show(x_out_sim, y_out_sim, z_out_sim)                 # Show drone sim\n",
        "\n",
        "    #controller.analog_out(x_out_mc, y_out_mc, z_out_mc)        # Write voltages to microcontroller\n",
        "\n",
        "    cv2.imshow(\"Gesture Control\", frame)                        # Show the gesture frame\n",
        "\n",
        "    k = cv2.waitKey(10)\n",
        "    if k == 27:\n",
        "        break\n",
        "\n",
        "cv2.destroyAllWindows()\n",
        "cap.release()\n",
        "#controller.close()\n"
      ]
    }
  ],
  "metadata": {
    "colab": {
      "name": "PANDASMATPLOTLIB063.ipynb",
      "provenance": []
    },
    "kernelspec": {
      "display_name": "Python 3",
      "name": "python3"
    },
    "language_info": {
      "codemirror_mode": {
        "name": "ipython",
        "version": 3
      },
      "file_extension": ".py",
      "mimetype": "text/x-python",
      "name": "python",
      "nbconvert_exporter": "python",
      "pygments_lexer": "ipython3",
      "version": "3.7.0"
    }
  },
  "nbformat": 4,
  "nbformat_minor": 0
}
